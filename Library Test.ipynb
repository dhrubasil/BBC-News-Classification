{
 "cells": [
  {
   "cell_type": "code",
   "execution_count": 17,
   "metadata": {},
   "outputs": [],
   "source": [
    "import pickle\n",
    "import pandas as pd\n",
    "\n",
    "id_to_category = {0:\"business\",1:\"tech\",2:\"politics\",3:\"sport\",4:\"entertainment\"}"
   ]
  },
  {
   "cell_type": "code",
   "execution_count": 2,
   "metadata": {},
   "outputs": [],
   "source": [
    "feature = None\n",
    "rf_model = None\n",
    "with open(\"news_classification_tfidf_vectorizer\", 'rb') as data:\n",
    "    feature = pickle.load(data)\n",
    "with open(\"news_classification_rf_model\", 'rb') as data:\n",
    "    rf_model = pickle.load(data)"
   ]
  },
  {
   "cell_type": "code",
   "execution_count": 20,
   "metadata": {},
   "outputs": [],
   "source": [
    "test_article = \"souness delight at euro progress boss graeme souness felt newcastle were never really in danger of going out of the uefa cup against heerenveen.  an early own goal followed by an alan shearer strike earned them a 2-1 win and a place in the uefa cup last 16.  obviously with winning in the first leg it gave us a great advantage   he said after the 4-2 aggregate victory.  we got our goals early and in the minds of some players the job was done but then they got a goal and perhaps made us a bit nervous.  shearer s goal moved him within 12 of jackie milburn s club scoring record of 200 for the magpies. but souness said he did not think beating the record would have any bearing on his decision to retire at the end of the season.  i think if he got it this year he would want to stay next year anyway   he added.   he struck the ball very well - he always has done - and i think it was the power and pace that beat the goalkeeper.\""
   ]
  },
  {
   "cell_type": "code",
   "execution_count": 21,
   "metadata": {},
   "outputs": [],
   "source": [
    "test_article = test_article.lower()"
   ]
  },
  {
   "cell_type": "code",
   "execution_count": 22,
   "metadata": {},
   "outputs": [],
   "source": [
    "test_frame = pd.DataFrame({\"Text\":[test_article]})"
   ]
  },
  {
   "cell_type": "code",
   "execution_count": 23,
   "metadata": {},
   "outputs": [],
   "source": [
    "test_feature = feature.transform(test_frame.Text).toarray()"
   ]
  },
  {
   "cell_type": "code",
   "execution_count": 24,
   "metadata": {},
   "outputs": [],
   "source": [
    "prediction = rf_model.predict(test_feature)"
   ]
  },
  {
   "cell_type": "code",
   "execution_count": 25,
   "metadata": {},
   "outputs": [
    {
     "name": "stdout",
     "output_type": "stream",
     "text": [
      "Hey this News article belongs to || sport  || Category\n"
     ]
    }
   ],
   "source": [
    "prediction_cat = prediction[0]\n",
    "prediction_cat = id_to_category[prediction_cat]\n",
    "\n",
    "print (\"Hey this News article belongs to ||\",prediction_cat,\" || Category\")"
   ]
  },
  {
   "cell_type": "code",
   "execution_count": null,
   "metadata": {},
   "outputs": [],
   "source": []
  }
 ],
 "metadata": {
  "kernelspec": {
   "display_name": "Python 3",
   "language": "python",
   "name": "python3"
  },
  "language_info": {
   "codemirror_mode": {
    "name": "ipython",
    "version": 3
   },
   "file_extension": ".py",
   "mimetype": "text/x-python",
   "name": "python",
   "nbconvert_exporter": "python",
   "pygments_lexer": "ipython3",
   "version": "3.7.1"
  }
 },
 "nbformat": 4,
 "nbformat_minor": 2
}
